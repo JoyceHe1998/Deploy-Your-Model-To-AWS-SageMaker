{
 "cells": [
  {
   "cell_type": "code",
   "execution_count": 11,
   "metadata": {},
   "outputs": [
    {
     "name": "stdout",
     "output_type": "stream",
     "text": [
      "bucket name: sept-16-test-bucket\n",
      "execution role: arn:aws:iam::368560229227:role/service-role/AmazonSageMaker-ExecutionRole-20200916T213040\n"
     ]
    }
   ],
   "source": [
    "from sagemaker.pytorch import PyTorchModel\n",
    "import sagemaker\n",
    "import boto3\n",
    "import pandas as pd\n",
    "import numpy as np\n",
    "import torch\n",
    "import json\n",
    "\n",
    "# the bucket that contains the compressed model artifact (model.tar.gz)\n",
    "bucket_name = 'sept-16-test-bucket'\n",
    "role = sagemaker.get_execution_role()\n",
    "\n",
    "print('bucket name: {}'.format(bucket_name))\n",
    "print('execution role: {}'.format(role))"
   ]
  },
  {
   "cell_type": "code",
   "execution_count": 10,
   "metadata": {},
   "outputs": [
    {
     "data": {
      "text/plain": [
       "<sagemaker.pytorch.model.PyTorchModel at 0x7fdfa280ce50>"
      ]
     },
     "execution_count": 10,
     "metadata": {},
     "output_type": "execute_result"
    }
   ],
   "source": [
    "path_to_model = 's3://{}/model.tar.gz'.format(bucket_name)\n",
    "\n",
    "# have to specify framework_version, otherwise will throw an error\n",
    "pytorch_model = PyTorchModel(model_data=path_to_model, role=role, entry_point='inference.py', framework_version='1.3.1')\n",
    "pytorch_model"
   ]
  },
  {
   "cell_type": "code",
   "execution_count": 11,
   "metadata": {},
   "outputs": [
    {
     "name": "stdout",
     "output_type": "stream",
     "text": [
      "---------------!"
     ]
    }
   ],
   "source": [
    "# takes about 15 minutes to finish, '---' is the progress bar, '!' indicates that it's finished\n",
    "predictor = pytorch_model.deploy(instance_type='ml.t2.medium', initial_instance_count=1)"
   ]
  },
  {
   "cell_type": "code",
   "execution_count": 12,
   "metadata": {},
   "outputs": [
    {
     "data": {
      "text/plain": [
       "<sagemaker.pytorch.model.PyTorchPredictor at 0x7fc9750a62d0>"
      ]
     },
     "execution_count": 12,
     "metadata": {},
     "output_type": "execute_result"
    }
   ],
   "source": [
    "predictor"
   ]
  },
  {
   "cell_type": "code",
   "execution_count": 13,
   "metadata": {},
   "outputs": [],
   "source": [
    "# the following code cell is used to load input from test set to see \n",
    "# if the prediction made by the trained model is around the correct value \n",
    "\n",
    "data_key_cam1 = '2d_points_0_to_1_cam1_test_with_shift.csv'\n",
    "data_key_cam2 = '2d_points_0_to_1_cam2_test_with_shift.csv'\n",
    "\n",
    "# path to the test dataframes in s3 bucket\n",
    "data_location_cam1 = 's3://{}/{}'.format(bucket, data_key_cam1)\n",
    "data_location_cam2 = 's3://{}/{}'.format(bucket, data_key_cam2)\n",
    "\n",
    "df_cam1 = pd.read_csv(data_location_cam1)\n",
    "df_cam2 = pd.read_csv(data_location_cam2)\n",
    "\n",
    "cols = ['Sphere_X', 'Sphere_Y', 'Cube_X', 'Cube_Y']\n",
    "cam1_sphere_cube_points = np.stack([df_cam1[col].values for col in cols], 1)\n",
    "cam1_sphere_cube_points = torch.FloatTensor(cam1_sphere_cube_points)\n",
    "cam2_sphere_cube_points = np.stack([df_cam2[col].values for col in cols], 1)\n",
    "cam2_sphere_cube_points = torch.FloatTensor(cam2_sphere_cube_points)\n",
    "\n",
    "# randomly set the time offset to be 3, and I randomly chose 67 to be the start index of the clip from cam1\n",
    "time_offset = 3\n",
    "cam1_clip_start_index = 67\n",
    "\n",
    "# load the frames of cam1 starting at the 67th frame, ends at the 76th frame\n",
    "clip_cam1 = cam1_sphere_cube_points[cam1_clip_start_index: (cam1_clip_start_index + 10)]\n",
    "# load the frames of cam2 starting at the 70th frame, ends at the 79th frame\n",
    "clip_cam2 = cam2_sphere_cube_points[(cam1_clip_start_index + time_offset) : (cam1_clip_start_index + 10 + time_offset)]\n",
    "\n",
    "# convert the input date to a json object to be passed to the SageMaker Endpoint\n",
    "input_json = json.dumps({\"clip_cam1\": clip_cam1.numpy().tolist(), \"clip_cam2\": clip_cam2.numpy().tolist()})"
   ]
  },
  {
   "cell_type": "code",
   "execution_count": 16,
   "metadata": {},
   "outputs": [
    {
     "name": "stdout",
     "output_type": "stream",
     "text": [
      "{\"predicted time offset\": 3.0}\n"
     ]
    }
   ],
   "source": [
    "client = boto3.client('runtime.sagemaker')\n",
    " \n",
    "# the EndpointName here is the name of the endpoint you just created by executing \n",
    "# the cell above that contains \"pytorch_model.deploy\", you can find the name under the \"Instance --> Endpoint\" section \n",
    "response = client.invoke_endpoint(EndpointName='pytorch-inference-2020-09-17-04-51-42-265',\n",
    "                                  Body=input_json)\n",
    "response_body = response['Body'] \n",
    "# print the prediction made by the pretrained model (model.tar.gz), which is the same as the time_offset I chose above, \n",
    "# which means that the model predicted the correct time offset based on those 2d positions of objects ('Sphere_X', 'Sphere_Y', 'Cube_X', 'Cube_Y') of the 2 cameras\n",
    "print(response_body.read())"
   ]
  },
  {
   "cell_type": "code",
   "execution_count": null,
   "metadata": {},
   "outputs": [],
   "source": [
    "# delete the endpoint after use to save cost!!!\n",
    "predictor.delete_endpoint()"
   ]
  }
 ],
 "metadata": {
  "kernelspec": {
   "display_name": "conda_pytorch_p27",
   "language": "python",
   "name": "conda_pytorch_p27"
  },
  "language_info": {
   "codemirror_mode": {
    "name": "ipython",
    "version": 2
   },
   "file_extension": ".py",
   "mimetype": "text/x-python",
   "name": "python",
   "nbconvert_exporter": "python",
   "pygments_lexer": "ipython2",
   "version": "2.7.17"
  }
 },
 "nbformat": 4,
 "nbformat_minor": 4
}
