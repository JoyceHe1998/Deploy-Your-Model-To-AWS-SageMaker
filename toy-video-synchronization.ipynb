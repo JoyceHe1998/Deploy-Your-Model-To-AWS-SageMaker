{
 "cells": [
  {
   "cell_type": "code",
   "execution_count": 1,
   "metadata": {},
   "outputs": [
    {
     "name": "stderr",
     "output_type": "stream",
     "text": [
      "No handlers could be found for logger \"sagemaker\"\n"
     ]
    },
    {
     "name": "stdout",
     "output_type": "stream",
     "text": [
      "('bucket: ', 'sagemaker-us-east-2-368560229227')\n",
      "('role: ', u'arn:aws:iam::368560229227:role/service-role/AmazonSageMaker-ExecutionRole-20200831T184128')\n"
     ]
    }
   ],
   "source": [
    "import sagemaker\n",
    "from sagemaker.pytorch import PyTorchModel\n",
    "\n",
    "sagemaker_session = sagemaker.Session()\n",
    "\n",
    "bucket = sagemaker_session.default_bucket()\n",
    "\n",
    "role = sagemaker.get_execution_role()\n",
    "\n",
    "print('bucket: ', bucket)\n",
    "print('role: ', role)"
   ]
  },
  {
   "cell_type": "code",
   "execution_count": 3,
   "metadata": {},
   "outputs": [],
   "source": [
    "pytorch_model = PyTorchModel(model_data='s3://sagemaker-us-east-2-368560229227/model.tar.gz', role=role, entry_point='inference.py', framework_version='1.3.1')"
   ]
  },
  {
   "cell_type": "code",
   "execution_count": null,
   "metadata": {},
   "outputs": [
    {
     "name": "stdout",
     "output_type": "stream",
     "text": [
      "---"
     ]
    }
   ],
   "source": [
    "predictor = pytorch_model.deploy(instance_type='ml.t2.medium', initial_instance_count=1)"
   ]
  },
  {
   "cell_type": "code",
   "execution_count": 37,
   "metadata": {},
   "outputs": [
    {
     "data": {
      "text/plain": [
       "<sagemaker.pytorch.model.PyTorchPredictor at 0x7f139aeace10>"
      ]
     },
     "execution_count": 37,
     "metadata": {},
     "output_type": "execute_result"
    }
   ],
   "source": [
    "predictor"
   ]
  },
  {
   "cell_type": "code",
   "execution_count": 39,
   "metadata": {},
   "outputs": [],
   "source": [
    "import boto3\n",
    "import pandas as pd\n",
    "\n",
    "bucket = 'sagemaker-us-east-2-368560229227'\n",
    "data_key_cam1 = '2d_points_0_to_1_cam1_test_with_shift.csv'\n",
    "data_key_cam2 = '2d_points_0_to_1_cam2_test_with_shift.csv'\n",
    "data_location_cam1 = 's3://{}/{}'.format(bucket, data_key_cam1)\n",
    "data_location_cam2 = 's3://{}/{}'.format(bucket, data_key_cam2)\n",
    "\n",
    "df_cam1 = pd.read_csv(data_location_cam1)\n",
    "df_cam2 = pd.read_csv(data_location_cam2)"
   ]
  },
  {
   "cell_type": "code",
   "execution_count": 51,
   "metadata": {},
   "outputs": [],
   "source": [
    "import numpy as np\n",
    "import torch\n",
    "import json\n",
    "\n",
    "cols = ['Sphere_X', 'Sphere_Y', 'Cube_X', 'Cube_Y']\n",
    "cam1_sphere_cube_points = np.stack([df_cam1[col].values for col in cols], 1)\n",
    "cam1_sphere_cube_points = torch.FloatTensor(cam1_sphere_cube_points)\n",
    "cam2_sphere_cube_points = np.stack([df_cam2[col].values for col in cols], 1)\n",
    "cam2_sphere_cube_points = torch.FloatTensor(cam2_sphere_cube_points)\n",
    "\n",
    "time_offset = 1\n",
    "cam1_clip_start_index = 67\n",
    "\n",
    "clip_cam1 = cam1_sphere_cube_points[cam1_clip_start_index: (cam1_clip_start_index + 10)]\n",
    "clip_cam2 = cam2_sphere_cube_points[(cam1_clip_start_index + time_offset) : (cam1_clip_start_index + 10 + time_offset)]\n",
    "\n",
    "input_json = json.dumps({\"clip_cam1\": clip_cam1.numpy().tolist(), \"clip_cam2\": clip_cam2.numpy().tolist()})\n",
    "# type(input_json)"
   ]
  },
  {
   "cell_type": "code",
   "execution_count": 48,
   "metadata": {},
   "outputs": [],
   "source": [
    "# input_data = json.loads(input_json)\n",
    "# clip_cam1 = input_data['clip_cam1']\n",
    "# clip_cam2 = input_data['clip_cam2']\n",
    "\n",
    "# clip_cam1"
   ]
  },
  {
   "cell_type": "code",
   "execution_count": 52,
   "metadata": {},
   "outputs": [
    {
     "name": "stdout",
     "output_type": "stream",
     "text": [
      "{\"predicted time offset\": 6}\n"
     ]
    }
   ],
   "source": [
    "import boto3 \n",
    "client = boto3.client('runtime.sagemaker')\n",
    " \n",
    "response = client.invoke_endpoint(EndpointName='pytorch-inference-2020-09-04-03-55-56-385',\n",
    "                                  Body=input_json)\n",
    "response_body = response['Body'] \n",
    "print(response_body.read())"
   ]
  },
  {
   "cell_type": "code",
   "execution_count": 47,
   "metadata": {},
   "outputs": [],
   "source": [
    "# response = predictor.predict(input_json)\n",
    "# print(response)"
   ]
  },
  {
   "cell_type": "code",
   "execution_count": 35,
   "metadata": {},
   "outputs": [],
   "source": [
    "predictor.delete_endpoint()"
   ]
  },
  {
   "cell_type": "code",
   "execution_count": null,
   "metadata": {},
   "outputs": [],
   "source": []
  }
 ],
 "metadata": {
  "kernelspec": {
   "display_name": "conda_pytorch_p27",
   "language": "python",
   "name": "conda_pytorch_p27"
  },
  "language_info": {
   "codemirror_mode": {
    "name": "ipython",
    "version": 2
   },
   "file_extension": ".py",
   "mimetype": "text/x-python",
   "name": "python",
   "nbconvert_exporter": "python",
   "pygments_lexer": "ipython2",
   "version": "2.7.17"
  }
 },
 "nbformat": 4,
 "nbformat_minor": 4
}
